{
 "cells": [
  {
   "cell_type": "code",
   "execution_count": 1,
   "metadata": {},
   "outputs": [],
   "source": [
    "import matplotlib.pyplot as plt\n",
    "%matplotlib inline\n",
    "plt.rcParams['figure.dpi'] = 70 #display 70 dpi in Jupyter Notebook, may consider100 dpi \n",
    "plt.rcParams['savefig.dpi'] = 70 #define 300 dpi for saving figures\n",
    "\n",
    "import seaborn as sns\n",
    "## here are some settings \n",
    "sns.set_style('whitegrid')\n",
    "sns.set(rc={\"figure.dpi\":70, 'savefig.dpi':70}) #defining dpi setting\n",
    "sns.set_context('notebook')\n",
    "sns.set_style(\"ticks\")\n",
    "from IPython.display import set_matplotlib_formats\n",
    "set_matplotlib_formats('retina')\n",
    "# Tells matplotlib to display images inline instead of a new window\n",
    "%matplotlib inline\n",
    "\n",
    "import pandas as pd\n",
    "import numpy as np\n",
    "import matplotlib.pyplot as plt\n",
    "import seaborn as sns\n",
    "import graphviz\n",
    "\n",
    "from time import time\n",
    "import timeit #imports timeit module\n",
    "import statsmodels.api as sm\n",
    "import statsmodels.formula.api as smf\n",
    "from sklearn.preprocessing import PolynomialFeatures\n",
    "\n",
    "import sklearn.linear_model as skl_lm\n",
    "from sklearn.linear_model import LinearRegression\n",
    "from sklearn.linear_model import LogisticRegression\n",
    "from sklearn.linear_model import LogisticRegressionCV\n",
    "from sklearn import neighbors\n",
    "from sklearn.discriminant_analysis import LinearDiscriminantAnalysis \n",
    "from sklearn.discriminant_analysis import QuadraticDiscriminantAnalysis\n",
    "from sklearn.tree import DecisionTreeRegressor \n",
    "from sklearn.tree import DecisionTreeClassifier \n",
    "from sklearn.tree import export_graphviz\n",
    "from sklearn.svm import SVC\n",
    "\n",
    "from sklearn.model_selection import cross_val_score\n",
    "from sklearn.model_selection import KFold\n",
    "from sklearn.model_selection import LeaveOneOut\n",
    "from sklearn.model_selection import train_test_split\n",
    "\n",
    "from sklearn.metrics import confusion_matrix\n",
    "from sklearn.metrics import classification_report\n",
    "from sklearn.metrics import accuracy_score\n",
    "from sklearn.metrics import precision_score\n",
    "from sklearn.metrics import mean_squared_error\n",
    "\n",
    "from sklearn.ensemble import RandomForestRegressor\n",
    "from sklearn.ensemble import GradientBoostingRegressor\n",
    "from sklearn.ensemble import RandomForestClassifier\n",
    "from sklearn.ensemble import AdaBoostClassifier\n",
    "from sklearn.ensemble import GradientBoostingClassifier"
   ]
  },
  {
   "cell_type": "code",
   "execution_count": 9,
   "metadata": {},
   "outputs": [],
   "source": [
    "df = pd.read_csv('../RiverRoad_Quan_RF.csv')\n",
    "columns = ['qu_dsm_MAX',\n",
    "'qu_hyddem_MIN',\n",
    "'qu_dsm_MIN',\n",
    "'qu_smdem_MAX',\n",
    "'qu_dem_MIN',\n",
    "'qu_dsm_SUM',\n",
    "'qu_dsm_MEAN',\n",
    "'qu_dsm_RANGE',\n",
    "'qu_dsm_STD',\n",
    "'qu_floAcu_MAX',\n",
    "'qu_floAcu_STD',\n",
    "'qu_hyddem_MAX',\n",
    "'qu_dem_MAX',\n",
    "'qu_floAcu_RANGE',\n",
    "'qu_curpl_SUM',\n",
    "'qu_hyddem_SUM',\n",
    "'qu_curpl_MEAN',\n",
    "'qu_hyddem_MEAN',\n",
    "'qu_floAcu_MEAN',\n",
    "'qu_curpl_STD',\n",
    "'qu_floAcu_SUM',\n",
    "'qu_smdem_MIN',\n",
    "'qu_smdem_SUM',\n",
    "'qu_curv_STD',\n",
    "]"
   ]
  },
  {
   "cell_type": "code",
   "execution_count": 13,
   "metadata": {},
   "outputs": [],
   "source": [
    "X = df[columns]\n",
    "y = df.FID_RiverRd_AOI\n",
    "kf = KFold(n_splits=5, random_state=2, shuffle=True)"
   ]
  },
  {
   "cell_type": "code",
   "execution_count": 14,
   "metadata": {},
   "outputs": [
    {
     "name": "stdout",
     "output_type": "stream",
     "text": [
      "263.2698723 Seconds\n"
     ]
    }
   ],
   "source": [
    "start_time = timeit.default_timer()\n",
    "acc_score = [];\n",
    "Truth = [];\n",
    "Output = [];\n",
    "\n",
    "for train_index , test_index in kf.split(df):\n",
    "    X_train , X_test = X.iloc[train_index,:], X.iloc[test_index,:]\n",
    "    y_train , y_test = y.iloc[train_index], y.iloc[test_index]\n",
    "    \n",
    "    model =  GradientBoostingClassifier(n_estimators = 500, \n",
    "                                           learning_rate = 0.1, \n",
    "                                           max_depth = 4, \n",
    "                                           random_state = 2)\n",
    "    model.fit(X_train, y_train)\n",
    "    pred_values = model.predict(X_test)\n",
    "    \n",
    "    acc = accuracy_score(y_test, pred_values)\n",
    "    acc_score.append(acc)\n",
    "    \n",
    "    Truth.extend(y_test.values.reshape(y_test.shape[0])); ## it is a list\n",
    "    Output.extend(pred_values);\n",
    "    \n",
    "elapsed = timeit.default_timer() - start_time\n",
    "print(f\"{elapsed} Seconds\")"
   ]
  },
  {
   "cell_type": "code",
   "execution_count": 15,
   "metadata": {},
   "outputs": [
    {
     "name": "stdout",
     "output_type": "stream",
     "text": [
      "[[2735  409]\n",
      " [ 187 5280]]\n",
      "              precision    recall  f1-score   support\n",
      "\n",
      "           0       0.94      0.87      0.90      3144\n",
      "           1       0.93      0.97      0.95      5467\n",
      "\n",
      "    accuracy                           0.93      8611\n",
      "   macro avg       0.93      0.92      0.92      8611\n",
      "weighted avg       0.93      0.93      0.93      8611\n",
      "\n"
     ]
    }
   ],
   "source": [
    "Truth = np.asarray(Truth)  ## or np.array(Truth)\n",
    "Output = np.asarray(Output)\n",
    "np.column_stack((Truth, Output))\n",
    "print(confusion_matrix(Truth, Output))\n",
    "print(classification_report(Truth, Output))"
   ]
  },
  {
   "cell_type": "code",
   "execution_count": 16,
   "metadata": {},
   "outputs": [
    {
     "data": {
      "text/plain": [
       "0.9307855798067143"
      ]
     },
     "execution_count": 16,
     "metadata": {},
     "output_type": "execute_result"
    }
   ],
   "source": [
    "np.mean(acc_score)"
   ]
  },
  {
   "cell_type": "code",
   "execution_count": 19,
   "metadata": {},
   "outputs": [],
   "source": [
    "columns = [\n",
    "'qu_dsm_MAX',\n",
    "'qu_hyddem_MIN',\n",
    "'qu_dsm_MIN',\n",
    "'qu_smdem_MAX',\n",
    "'qu_dem_MIN',\n",
    "'qu_dsm_SUM',\n",
    "'qu_dsm_STD',\n",
    "'qu_floAcu_MAX',\n",
    "'qu_floAcu_STD',\n",
    "'qu_curpl_SUM',\n",
    "'qu_curpl_STD',\n",
    "'qu_floAcu_SUM',\n",
    "]"
   ]
  },
  {
   "cell_type": "code",
   "execution_count": 20,
   "metadata": {},
   "outputs": [],
   "source": [
    "X = df[columns]\n",
    "y = df.FID_RiverRd_AOI\n",
    "kf = KFold(n_splits=5, random_state=2, shuffle=True)"
   ]
  },
  {
   "cell_type": "code",
   "execution_count": 21,
   "metadata": {},
   "outputs": [
    {
     "name": "stdout",
     "output_type": "stream",
     "text": [
      "112.40592790000028 Seconds\n"
     ]
    }
   ],
   "source": [
    "start_time = timeit.default_timer()\n",
    "acc_score = [];\n",
    "Truth = [];\n",
    "Output = [];\n",
    "\n",
    "for train_index , test_index in kf.split(df):\n",
    "    X_train , X_test = X.iloc[train_index,:], X.iloc[test_index,:]\n",
    "    y_train , y_test = y.iloc[train_index], y.iloc[test_index]\n",
    "    \n",
    "    model =  GradientBoostingClassifier(n_estimators = 500, \n",
    "                                           learning_rate = 0.1, \n",
    "                                           max_depth = 4, \n",
    "                                           random_state = 2)\n",
    "    model.fit(X_train, y_train)\n",
    "    pred_values = model.predict(X_test)\n",
    "    \n",
    "    acc = accuracy_score(y_test, pred_values)\n",
    "    acc_score.append(acc)\n",
    "    \n",
    "    Truth.extend(y_test.values.reshape(y_test.shape[0])); ## it is a list\n",
    "    Output.extend(pred_values);\n",
    "    \n",
    "elapsed = timeit.default_timer() - start_time\n",
    "print(f\"{elapsed} Seconds\")"
   ]
  },
  {
   "cell_type": "code",
   "execution_count": 22,
   "metadata": {},
   "outputs": [
    {
     "name": "stdout",
     "output_type": "stream",
     "text": [
      "[[2734  410]\n",
      " [ 199 5268]]\n",
      "              precision    recall  f1-score   support\n",
      "\n",
      "           0       0.93      0.87      0.90      3144\n",
      "           1       0.93      0.96      0.95      5467\n",
      "\n",
      "    accuracy                           0.93      8611\n",
      "   macro avg       0.93      0.92      0.92      8611\n",
      "weighted avg       0.93      0.93      0.93      8611\n",
      "\n"
     ]
    }
   ],
   "source": [
    "Truth = np.asarray(Truth)  ## or np.array(Truth)\n",
    "Output = np.asarray(Output)\n",
    "np.column_stack((Truth, Output))\n",
    "print(confusion_matrix(Truth, Output))\n",
    "print(classification_report(Truth, Output))"
   ]
  },
  {
   "cell_type": "code",
   "execution_count": 23,
   "metadata": {},
   "outputs": [
    {
     "data": {
      "text/plain": [
       "0.9292758423811748"
      ]
     },
     "execution_count": 23,
     "metadata": {},
     "output_type": "execute_result"
    }
   ],
   "source": [
    "np.mean(acc_score)"
   ]
  },
  {
   "cell_type": "code",
   "execution_count": null,
   "metadata": {},
   "outputs": [],
   "source": []
  }
 ],
 "metadata": {
  "kernelspec": {
   "display_name": "Python 3",
   "language": "python",
   "name": "python3"
  },
  "language_info": {
   "codemirror_mode": {
    "name": "ipython",
    "version": 3
   },
   "file_extension": ".py",
   "mimetype": "text/x-python",
   "name": "python",
   "nbconvert_exporter": "python",
   "pygments_lexer": "ipython3",
   "version": "3.8.3"
  }
 },
 "nbformat": 4,
 "nbformat_minor": 4
}

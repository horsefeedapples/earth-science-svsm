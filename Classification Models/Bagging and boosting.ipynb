{
 "cells": [
  {
   "cell_type": "code",
   "execution_count": 1,
   "id": "76007bf4",
   "metadata": {},
   "outputs": [
    {
     "name": "stdout",
     "output_type": "stream",
     "text": [
      "---Run time is 2.3699999999848842e-05 seconds ---\n",
      "\n"
     ]
    }
   ],
   "source": [
    "import pandas as pd\n",
    "import numpy as np\n",
    "import matplotlib as mpl\n",
    "import matplotlib.pyplot as plt\n",
    "import seaborn as sns\n",
    "\n",
    "%matplotlib inline\n",
    "\n",
    "import matplotlib.pyplot as plt\n",
    "%matplotlib inline\n",
    "plt.rcParams['figure.dpi'] = 70 #display 70 dpi in Jupyter Notebook, may consider100 dpi \n",
    "plt.rcParams['savefig.dpi'] = 300 #define 300 dpi for saving figures\n",
    "\n",
    "import seaborn as sns\n",
    "## here are some settings \n",
    "sns.set_style('whitegrid')\n",
    "sns.set(rc={\"figure.dpi\":70, 'savefig.dpi':300}) #defining dpi setting\n",
    "sns.set_context('notebook')\n",
    "sns.set_style(\"ticks\")\n",
    "from IPython.display import set_matplotlib_formats\n",
    "set_matplotlib_formats('retina')\n",
    "\n",
    "from time import time\n",
    "import timeit #imports timeit module\n",
    "start_time = timeit.default_timer() #defines start time so computational time can be calculated\n",
    "elapsed = timeit.default_timer() - start_time #gives total computation time\n",
    "print(\"---Run time is %s seconds ---\" % elapsed) #prints computation time\n",
    "print()"
   ]
  },
  {
   "cell_type": "code",
   "execution_count": 2,
   "id": "ef7f85ea",
   "metadata": {},
   "outputs": [],
   "source": [
    "from sklearn.model_selection import train_test_split\n",
    "from sklearn.tree import DecisionTreeRegressor, DecisionTreeClassifier, export_graphviz\n",
    "from sklearn.ensemble import RandomForestRegressor, RandomForestClassifier, GradientBoostingRegressor\n",
    "from sklearn.metrics import confusion_matrix, mean_squared_error\n",
    "\n",
    "import statsmodels.api as sm\n",
    "import statsmodels.formula.api as smf\n",
    "from sklearn.preprocessing import PolynomialFeatures\n",
    "\n",
    "import sklearn.linear_model as skl_lm\n",
    "from sklearn.linear_model import LinearRegression\n",
    "from sklearn.linear_model import LogisticRegression\n",
    "from sklearn.linear_model import LogisticRegressionCV\n",
    "from sklearn import neighbors\n",
    "\n",
    "from sklearn.model_selection import cross_val_score\n",
    "from sklearn.model_selection import KFold\n",
    "from sklearn.model_selection import LeaveOneOut\n",
    "\n",
    "from sklearn.metrics import confusion_matrix\n",
    "from sklearn.metrics import classification_report\n",
    "from sklearn.metrics import accuracy_score"
   ]
  },
  {
   "cell_type": "code",
   "execution_count": 3,
   "id": "6e1d1eb8",
   "metadata": {},
   "outputs": [
    {
     "data": {
      "text/html": [
       "<div>\n",
       "<style scoped>\n",
       "    .dataframe tbody tr th:only-of-type {\n",
       "        vertical-align: middle;\n",
       "    }\n",
       "\n",
       "    .dataframe tbody tr th {\n",
       "        vertical-align: top;\n",
       "    }\n",
       "\n",
       "    .dataframe thead th {\n",
       "        text-align: right;\n",
       "    }\n",
       "</style>\n",
       "<table border=\"1\" class=\"dataframe\">\n",
       "  <thead>\n",
       "    <tr style=\"text-align: right;\">\n",
       "      <th></th>\n",
       "      <th>GRID_ID</th>\n",
       "      <th>qu_dem_MIN</th>\n",
       "      <th>qu_dem_MAX</th>\n",
       "      <th>qu_dem_RANGE</th>\n",
       "      <th>qu_dem_MEAN</th>\n",
       "      <th>qu_dem_STD</th>\n",
       "      <th>qu_dem_SUM</th>\n",
       "      <th>qu_dsm_MIN</th>\n",
       "      <th>qu_dsm_MAX</th>\n",
       "      <th>qu_dsm_RANGE</th>\n",
       "      <th>...</th>\n",
       "      <th>qu_curpl_SUM</th>\n",
       "      <th>qu_curpr_MIN</th>\n",
       "      <th>qu_curpr_MAX</th>\n",
       "      <th>qu_curpr_RANGE</th>\n",
       "      <th>qu_curpr_MEAN</th>\n",
       "      <th>qu_curpr_STD</th>\n",
       "      <th>qu_curpr_SUM</th>\n",
       "      <th>wetland_type</th>\n",
       "      <th>FID_RiverRd_AOI</th>\n",
       "      <th>wetland</th>\n",
       "    </tr>\n",
       "  </thead>\n",
       "  <tbody>\n",
       "    <tr>\n",
       "      <th>0</th>\n",
       "      <td>AA-10</td>\n",
       "      <td>0.691847</td>\n",
       "      <td>1.731059</td>\n",
       "      <td>1.039212</td>\n",
       "      <td>1.117221</td>\n",
       "      <td>0.202755</td>\n",
       "      <td>313.939159</td>\n",
       "      <td>0.731374</td>\n",
       "      <td>6.256660</td>\n",
       "      <td>5.525286</td>\n",
       "      <td>...</td>\n",
       "      <td>1688.477507</td>\n",
       "      <td>-561.943237</td>\n",
       "      <td>585.859314</td>\n",
       "      <td>1147.802551</td>\n",
       "      <td>-6.984654</td>\n",
       "      <td>173.043352</td>\n",
       "      <td>-1941.733846</td>\n",
       "      <td>nonwetland</td>\n",
       "      <td>0</td>\n",
       "      <td>nonwetland</td>\n",
       "    </tr>\n",
       "    <tr>\n",
       "      <th>1</th>\n",
       "      <td>AA-11</td>\n",
       "      <td>0.641888</td>\n",
       "      <td>1.487661</td>\n",
       "      <td>0.845773</td>\n",
       "      <td>1.059745</td>\n",
       "      <td>0.147762</td>\n",
       "      <td>295.668776</td>\n",
       "      <td>0.661373</td>\n",
       "      <td>6.679267</td>\n",
       "      <td>6.017894</td>\n",
       "      <td>...</td>\n",
       "      <td>-1129.404510</td>\n",
       "      <td>-841.298767</td>\n",
       "      <td>679.957519</td>\n",
       "      <td>1521.256287</td>\n",
       "      <td>0.069758</td>\n",
       "      <td>168.483844</td>\n",
       "      <td>19.392675</td>\n",
       "      <td>nonwetland</td>\n",
       "      <td>0</td>\n",
       "      <td>nonwetland</td>\n",
       "    </tr>\n",
       "    <tr>\n",
       "      <th>2</th>\n",
       "      <td>AA-12</td>\n",
       "      <td>0.770032</td>\n",
       "      <td>1.507396</td>\n",
       "      <td>0.737363</td>\n",
       "      <td>1.176038</td>\n",
       "      <td>0.160304</td>\n",
       "      <td>329.290651</td>\n",
       "      <td>0.770032</td>\n",
       "      <td>5.681332</td>\n",
       "      <td>4.911300</td>\n",
       "      <td>...</td>\n",
       "      <td>-994.710507</td>\n",
       "      <td>-614.981445</td>\n",
       "      <td>614.381775</td>\n",
       "      <td>1229.363220</td>\n",
       "      <td>-9.649778</td>\n",
       "      <td>201.707961</td>\n",
       "      <td>-2692.288038</td>\n",
       "      <td>nonwetland</td>\n",
       "      <td>0</td>\n",
       "      <td>nonwetland</td>\n",
       "    </tr>\n",
       "    <tr>\n",
       "      <th>3</th>\n",
       "      <td>AA-13</td>\n",
       "      <td>0.761148</td>\n",
       "      <td>1.413489</td>\n",
       "      <td>0.652341</td>\n",
       "      <td>1.131694</td>\n",
       "      <td>0.115760</td>\n",
       "      <td>316.874198</td>\n",
       "      <td>0.761148</td>\n",
       "      <td>1.462370</td>\n",
       "      <td>0.701221</td>\n",
       "      <td>...</td>\n",
       "      <td>-2264.176594</td>\n",
       "      <td>-577.830017</td>\n",
       "      <td>633.895386</td>\n",
       "      <td>1211.725403</td>\n",
       "      <td>-1.244892</td>\n",
       "      <td>180.105412</td>\n",
       "      <td>-347.324849</td>\n",
       "      <td>nonwetland</td>\n",
       "      <td>0</td>\n",
       "      <td>nonwetland</td>\n",
       "    </tr>\n",
       "    <tr>\n",
       "      <th>4</th>\n",
       "      <td>AA-14</td>\n",
       "      <td>0.696000</td>\n",
       "      <td>1.392386</td>\n",
       "      <td>0.696386</td>\n",
       "      <td>1.160470</td>\n",
       "      <td>0.116413</td>\n",
       "      <td>322.610787</td>\n",
       "      <td>0.667013</td>\n",
       "      <td>1.392386</td>\n",
       "      <td>0.725372</td>\n",
       "      <td>...</td>\n",
       "      <td>-571.203099</td>\n",
       "      <td>-574.029480</td>\n",
       "      <td>501.253113</td>\n",
       "      <td>1075.282593</td>\n",
       "      <td>-1.556956</td>\n",
       "      <td>170.969213</td>\n",
       "      <td>-435.947672</td>\n",
       "      <td>nonwetland</td>\n",
       "      <td>0</td>\n",
       "      <td>nonwetland</td>\n",
       "    </tr>\n",
       "    <tr>\n",
       "      <th>...</th>\n",
       "      <td>...</td>\n",
       "      <td>...</td>\n",
       "      <td>...</td>\n",
       "      <td>...</td>\n",
       "      <td>...</td>\n",
       "      <td>...</td>\n",
       "      <td>...</td>\n",
       "      <td>...</td>\n",
       "      <td>...</td>\n",
       "      <td>...</td>\n",
       "      <td>...</td>\n",
       "      <td>...</td>\n",
       "      <td>...</td>\n",
       "      <td>...</td>\n",
       "      <td>...</td>\n",
       "      <td>...</td>\n",
       "      <td>...</td>\n",
       "      <td>...</td>\n",
       "      <td>...</td>\n",
       "      <td>...</td>\n",
       "      <td>...</td>\n",
       "    </tr>\n",
       "    <tr>\n",
       "      <th>8606</th>\n",
       "      <td>Z-95</td>\n",
       "      <td>0.851000</td>\n",
       "      <td>1.676798</td>\n",
       "      <td>0.825798</td>\n",
       "      <td>1.409729</td>\n",
       "      <td>0.230505</td>\n",
       "      <td>390.494948</td>\n",
       "      <td>0.851000</td>\n",
       "      <td>1.676798</td>\n",
       "      <td>0.825798</td>\n",
       "      <td>...</td>\n",
       "      <td>106.915450</td>\n",
       "      <td>-692.625366</td>\n",
       "      <td>738.732422</td>\n",
       "      <td>1431.357788</td>\n",
       "      <td>4.547107</td>\n",
       "      <td>170.083954</td>\n",
       "      <td>1268.642730</td>\n",
       "      <td>PEM1Rd</td>\n",
       "      <td>1</td>\n",
       "      <td>wetland</td>\n",
       "    </tr>\n",
       "    <tr>\n",
       "      <th>8607</th>\n",
       "      <td>Z-96</td>\n",
       "      <td>0.723952</td>\n",
       "      <td>1.662994</td>\n",
       "      <td>0.939042</td>\n",
       "      <td>1.425776</td>\n",
       "      <td>0.219366</td>\n",
       "      <td>396.365613</td>\n",
       "      <td>0.723952</td>\n",
       "      <td>1.662994</td>\n",
       "      <td>0.939042</td>\n",
       "      <td>...</td>\n",
       "      <td>-327.422941</td>\n",
       "      <td>-390.115845</td>\n",
       "      <td>542.452454</td>\n",
       "      <td>932.568298</td>\n",
       "      <td>10.324390</td>\n",
       "      <td>134.407219</td>\n",
       "      <td>2890.829178</td>\n",
       "      <td>PEM1Rd</td>\n",
       "      <td>1</td>\n",
       "      <td>wetland</td>\n",
       "    </tr>\n",
       "    <tr>\n",
       "      <th>8608</th>\n",
       "      <td>Z-97</td>\n",
       "      <td>0.836438</td>\n",
       "      <td>1.653542</td>\n",
       "      <td>0.817103</td>\n",
       "      <td>1.452142</td>\n",
       "      <td>0.180319</td>\n",
       "      <td>406.599629</td>\n",
       "      <td>0.836438</td>\n",
       "      <td>1.653542</td>\n",
       "      <td>0.817103</td>\n",
       "      <td>...</td>\n",
       "      <td>279.791020</td>\n",
       "      <td>-728.279236</td>\n",
       "      <td>753.877563</td>\n",
       "      <td>1482.156799</td>\n",
       "      <td>1.897032</td>\n",
       "      <td>165.294550</td>\n",
       "      <td>527.374799</td>\n",
       "      <td>PEM1Rd</td>\n",
       "      <td>1</td>\n",
       "      <td>wetland</td>\n",
       "    </tr>\n",
       "    <tr>\n",
       "      <th>8609</th>\n",
       "      <td>Z-98</td>\n",
       "      <td>0.997941</td>\n",
       "      <td>1.636024</td>\n",
       "      <td>0.638083</td>\n",
       "      <td>1.461971</td>\n",
       "      <td>0.166600</td>\n",
       "      <td>406.427984</td>\n",
       "      <td>0.997941</td>\n",
       "      <td>1.636024</td>\n",
       "      <td>0.638083</td>\n",
       "      <td>...</td>\n",
       "      <td>-313.958618</td>\n",
       "      <td>-622.526367</td>\n",
       "      <td>402.200531</td>\n",
       "      <td>1024.726898</td>\n",
       "      <td>4.975549</td>\n",
       "      <td>115.808141</td>\n",
       "      <td>1383.202760</td>\n",
       "      <td>PEM1Rd</td>\n",
       "      <td>1</td>\n",
       "      <td>wetland</td>\n",
       "    </tr>\n",
       "    <tr>\n",
       "      <th>8610</th>\n",
       "      <td>Z-99</td>\n",
       "      <td>0.962564</td>\n",
       "      <td>1.649397</td>\n",
       "      <td>0.686833</td>\n",
       "      <td>1.506675</td>\n",
       "      <td>0.148577</td>\n",
       "      <td>420.362367</td>\n",
       "      <td>0.962564</td>\n",
       "      <td>1.649397</td>\n",
       "      <td>0.686833</td>\n",
       "      <td>...</td>\n",
       "      <td>260.412028</td>\n",
       "      <td>-444.978790</td>\n",
       "      <td>355.776306</td>\n",
       "      <td>800.755096</td>\n",
       "      <td>15.123050</td>\n",
       "      <td>108.550538</td>\n",
       "      <td>4204.208021</td>\n",
       "      <td>nonwetland</td>\n",
       "      <td>0</td>\n",
       "      <td>nonwetland</td>\n",
       "    </tr>\n",
       "  </tbody>\n",
       "</table>\n",
       "<p>8611 rows × 64 columns</p>\n",
       "</div>"
      ],
      "text/plain": [
       "     GRID_ID  qu_dem_MIN  qu_dem_MAX  qu_dem_RANGE  qu_dem_MEAN  qu_dem_STD  \\\n",
       "0      AA-10    0.691847    1.731059      1.039212     1.117221    0.202755   \n",
       "1      AA-11    0.641888    1.487661      0.845773     1.059745    0.147762   \n",
       "2      AA-12    0.770032    1.507396      0.737363     1.176038    0.160304   \n",
       "3      AA-13    0.761148    1.413489      0.652341     1.131694    0.115760   \n",
       "4      AA-14    0.696000    1.392386      0.696386     1.160470    0.116413   \n",
       "...      ...         ...         ...           ...          ...         ...   \n",
       "8606    Z-95    0.851000    1.676798      0.825798     1.409729    0.230505   \n",
       "8607    Z-96    0.723952    1.662994      0.939042     1.425776    0.219366   \n",
       "8608    Z-97    0.836438    1.653542      0.817103     1.452142    0.180319   \n",
       "8609    Z-98    0.997941    1.636024      0.638083     1.461971    0.166600   \n",
       "8610    Z-99    0.962564    1.649397      0.686833     1.506675    0.148577   \n",
       "\n",
       "      qu_dem_SUM  qu_dsm_MIN  qu_dsm_MAX  qu_dsm_RANGE  ...  qu_curpl_SUM  \\\n",
       "0     313.939159    0.731374    6.256660      5.525286  ...   1688.477507   \n",
       "1     295.668776    0.661373    6.679267      6.017894  ...  -1129.404510   \n",
       "2     329.290651    0.770032    5.681332      4.911300  ...   -994.710507   \n",
       "3     316.874198    0.761148    1.462370      0.701221  ...  -2264.176594   \n",
       "4     322.610787    0.667013    1.392386      0.725372  ...   -571.203099   \n",
       "...          ...         ...         ...           ...  ...           ...   \n",
       "8606  390.494948    0.851000    1.676798      0.825798  ...    106.915450   \n",
       "8607  396.365613    0.723952    1.662994      0.939042  ...   -327.422941   \n",
       "8608  406.599629    0.836438    1.653542      0.817103  ...    279.791020   \n",
       "8609  406.427984    0.997941    1.636024      0.638083  ...   -313.958618   \n",
       "8610  420.362367    0.962564    1.649397      0.686833  ...    260.412028   \n",
       "\n",
       "      qu_curpr_MIN  qu_curpr_MAX  qu_curpr_RANGE  qu_curpr_MEAN  qu_curpr_STD  \\\n",
       "0      -561.943237    585.859314     1147.802551      -6.984654    173.043352   \n",
       "1      -841.298767    679.957519     1521.256287       0.069758    168.483844   \n",
       "2      -614.981445    614.381775     1229.363220      -9.649778    201.707961   \n",
       "3      -577.830017    633.895386     1211.725403      -1.244892    180.105412   \n",
       "4      -574.029480    501.253113     1075.282593      -1.556956    170.969213   \n",
       "...            ...           ...             ...            ...           ...   \n",
       "8606   -692.625366    738.732422     1431.357788       4.547107    170.083954   \n",
       "8607   -390.115845    542.452454      932.568298      10.324390    134.407219   \n",
       "8608   -728.279236    753.877563     1482.156799       1.897032    165.294550   \n",
       "8609   -622.526367    402.200531     1024.726898       4.975549    115.808141   \n",
       "8610   -444.978790    355.776306      800.755096      15.123050    108.550538   \n",
       "\n",
       "      qu_curpr_SUM  wetland_type  FID_RiverRd_AOI     wetland  \n",
       "0     -1941.733846    nonwetland                0  nonwetland  \n",
       "1        19.392675    nonwetland                0  nonwetland  \n",
       "2     -2692.288038    nonwetland                0  nonwetland  \n",
       "3      -347.324849    nonwetland                0  nonwetland  \n",
       "4      -435.947672    nonwetland                0  nonwetland  \n",
       "...            ...           ...              ...         ...  \n",
       "8606   1268.642730        PEM1Rd                1     wetland  \n",
       "8607   2890.829178        PEM1Rd                1     wetland  \n",
       "8608    527.374799        PEM1Rd                1     wetland  \n",
       "8609   1383.202760        PEM1Rd                1     wetland  \n",
       "8610   4204.208021    nonwetland                0  nonwetland  \n",
       "\n",
       "[8611 rows x 64 columns]"
      ]
     },
     "execution_count": 3,
     "metadata": {},
     "output_type": "execute_result"
    }
   ],
   "source": [
    "dfes = pd.read_csv('../RiverRoad_Quan_RF.csv')\n",
    "dfes"
   ]
  },
  {
   "cell_type": "code",
   "execution_count": 4,
   "id": "3c5d59d9",
   "metadata": {},
   "outputs": [],
   "source": [
    "X = dfes.drop(['GRID_ID', 'wetland_type', 'FID_RiverRd_AOI', 'wetland'], axis = 1)\n",
    "y = dfes.FID_RiverRd_AOI\n",
    "X_train, X_test, y_train, y_test = train_test_split(X, y, train_size = 0.8, random_state = 0)\n",
    "#X_train = ['qu_dem_MEAN', 'qu_dsm_MEAN','qu_hyddem_MEAN','qu_smdem_MEAN','qu_asp_MEAN','qu_floAcu_MEAN','qu_floDir_MEAN','qu_curv_MEAN','qu_curpl_MEAN','qu_curpr_MEAN']"
   ]
  },
  {
   "cell_type": "code",
   "execution_count": 5,
   "id": "cd614ad5",
   "metadata": {},
   "outputs": [
    {
     "name": "stdout",
     "output_type": "stream",
     "text": [
      "Accuracy of each fold: \n",
      " [0.79860708 0.79442509 0.77816492 0.80081301 0.7804878 ]\n",
      "\n",
      "Avg accuracy: 0.7904995810591553\n"
     ]
    }
   ],
   "source": [
    "crossvalidation = KFold(n_splits=5, random_state=2, shuffle=True)\n",
    "knn = neighbors.KNeighborsClassifier(n_neighbors = 1)\n",
    "model = knn.fit(X, y)\n",
    "scores = cross_val_score(model, X, y, cv=crossvalidation)\n",
    "print('Accuracy of each fold: \\n {}'.format(scores))\n",
    "print()\n",
    "print(\"Avg accuracy: {}\".format(scores.mean()))"
   ]
  },
  {
   "cell_type": "code",
   "execution_count": 6,
   "id": "52a63f15",
   "metadata": {},
   "outputs": [
    {
     "name": "stdout",
     "output_type": "stream",
     "text": [
      "k is 10\n",
      "Accuracy of each fold: \n",
      " [0.84445734 0.83042973 0.83217189 0.83855981 0.82520325]\n",
      "Avg accuracy: 0.8341644068127938\n",
      "\n",
      "k is 11\n",
      "Accuracy of each fold: \n",
      " [0.84793964 0.83101045 0.83275261 0.84610918 0.82636469]\n",
      "Avg accuracy: 0.8368353147920834\n",
      "\n",
      "k is 12\n",
      "Accuracy of each fold: \n",
      " [0.84619849 0.83275261 0.83391405 0.8466899  0.82810685]\n",
      "Avg accuracy: 0.8375323811276418\n",
      "\n",
      "k is 13\n",
      "Accuracy of each fold: \n",
      " [0.85084156 0.82984901 0.83217189 0.84610918 0.82462253]\n",
      "Avg accuracy: 0.8367188337334\n",
      "\n",
      "k is 14\n",
      "Accuracy of each fold: \n",
      " [0.84677887 0.83217189 0.83042973 0.8466899  0.83042973]\n",
      "Avg accuracy: 0.8373000256824555\n",
      "\n",
      "k is 15\n",
      "Accuracy of each fold: \n",
      " [0.84561811 0.82984901 0.83042973 0.84088269 0.82694541]\n",
      "Avg accuracy: 0.834744992089669\n",
      "\n",
      "k is 16\n",
      "Accuracy of each fold: \n",
      " [0.84619849 0.83159117 0.83565621 0.84262485 0.82984901]\n",
      "Avg accuracy: 0.8371839490718926\n",
      "\n",
      "k is 17\n",
      "Accuracy of each fold: \n",
      " [0.84619849 0.82926829 0.83217189 0.84030197 0.82810685]\n",
      "Avg accuracy: 0.8352095007559809\n",
      "\n",
      "k is 18\n",
      "Accuracy of each fold: \n",
      " [0.84503772 0.82926829 0.83333333 0.84320557 0.83159117]\n",
      "Avg accuracy: 0.8364872197764346\n",
      "\n",
      "k is 19\n",
      "Accuracy of each fold: \n",
      " [0.84677887 0.82926829 0.83449477 0.84146341 0.82752613]\n",
      "Avg accuracy: 0.835906297459459\n",
      "\n",
      "0.8375323811276418\n"
     ]
    }
   ],
   "source": [
    "crossvalidation = KFold(n_splits=5, random_state=2, shuffle=True)\n",
    "\n",
    "result=[]\n",
    "for k in range(10,20):\n",
    "    knn = neighbors.KNeighborsClassifier(n_neighbors = k)\n",
    "    model = knn.fit(X, y)\n",
    "    \n",
    "    scores = cross_val_score(model, X, y, cv=crossvalidation)\n",
    "    print(\"k is\", k)\n",
    "    print('Accuracy of each fold: \\n {}'.format(scores))\n",
    "    print(\"Avg accuracy: {}\".format(scores.mean()))\n",
    "    print()\n",
    "    result.append(scores.mean())\n",
    "print(np.max(result))"
   ]
  },
  {
   "cell_type": "code",
   "execution_count": 7,
   "id": "2ca430ca",
   "metadata": {},
   "outputs": [
    {
     "data": {
      "text/plain": [
       "RandomForestRegressor(max_features=60, random_state=2)"
      ]
     },
     "execution_count": 7,
     "metadata": {},
     "output_type": "execute_result"
    }
   ],
   "source": [
    "bagged_dfes = RandomForestRegressor (max_features = 60, random_state = 2)\n",
    "bagged_dfes.fit(X_train, y_train)"
   ]
  },
  {
   "cell_type": "code",
   "execution_count": 8,
   "id": "484032c6",
   "metadata": {},
   "outputs": [
    {
     "data": {
      "text/plain": [
       "0.062194776552524665"
      ]
     },
     "execution_count": 8,
     "metadata": {},
     "output_type": "execute_result"
    },
    {
     "data": {
      "image/png": "[encoded data removed]",
      "text/plain": [
       "<Figure size 420x280 with 1 Axes>"
      ]
     },
     "metadata": {
      "image/png": {
       "height": 259,
       "width": 378
      }
     },
     "output_type": "display_data"
    }
   ],
   "source": [
    "pred = bagged_dfes.predict(X_test)\n",
    "\n",
    "plt.scatter(pred, \n",
    "            y_test, \n",
    "            label = 'FID_RiverRd_AOI')\n",
    "\n",
    "plt.plot([0, 1], \n",
    "         [0, 1], \n",
    "         '--k', \n",
    "         transform = plt.gca().transAxes)\n",
    "\n",
    "plt.xlabel('pred')\n",
    "plt.ylabel('y_test')\n",
    "\n",
    "mean_squared_error(y_test, pred)"
   ]
  },
  {
   "cell_type": "code",
   "execution_count": 9,
   "id": "48719899",
   "metadata": {},
   "outputs": [
    {
     "name": "stdout",
     "output_type": "stream",
     "text": [
      "Accuracy of each fold: \n",
      " [0.73071746 0.72684307 0.70748297 0.72229741 0.72279322]\n",
      "\n",
      "Avg accuracy: 0.722026824576613\n"
     ]
    }
   ],
   "source": [
    "crossvalidation = KFold(n_splits=5, random_state=2, shuffle=True)\n",
    "model = RandomForestRegressor(max_features = 60, random_state = 2)\n",
    "scores = cross_val_score(model, X, y, cv=crossvalidation)\n",
    "print('Accuracy of each fold: \\n {}'.format(scores))\n",
    "print()\n",
    "print(\"Avg accuracy: {}\".format(scores.mean()))"
   ]
  },
  {
   "cell_type": "code",
   "execution_count": 10,
   "id": "ba037dc0",
   "metadata": {},
   "outputs": [
    {
     "data": {
      "text/plain": [
       "GradientBoostingRegressor(learning_rate=0.01, max_depth=4, n_estimators=500,\n",
       "                          random_state=1)"
      ]
     },
     "execution_count": 10,
     "metadata": {},
     "output_type": "execute_result"
    }
   ],
   "source": [
    "boosted_dfes = GradientBoostingRegressor(n_estimators = 500, \n",
    "                                           learning_rate = 0.01, \n",
    "                                           max_depth = 4, \n",
    "                                           random_state = 1)\n",
    "\n",
    "boosted_dfes.fit(X_train, y_train)"
   ]
  },
  {
   "cell_type": "code",
   "execution_count": 11,
   "id": "3df4c6c8",
   "metadata": {
    "scrolled": true
   },
   "outputs": [
    {
     "data": {
      "image/png": "[encoded data removed]",
      "text/plain": [
       "<Figure size 420x280 with 1 Axes>"
      ]
     },
     "metadata": {
      "image/png": {
       "height": 259,
       "width": 430
      }
     },
     "output_type": "display_data"
    }
   ],
   "source": [
    "feature_importance = boosted_dfes.feature_importances_*100\n",
    "\n",
    "rel_imp = pd.Series(feature_importance, \n",
    "                    index = X_train.columns).sort_values(inplace = False)\n",
    "\n",
    "rel_imp[-10:].T.plot(kind = 'barh', \n",
    "               color = 'r', )\n",
    "\n",
    "plt.xlabel('Variable Importance')\n",
    "\n",
    "plt.gca().legend_ = None"
   ]
  },
  {
   "cell_type": "code",
   "execution_count": 12,
   "id": "6a4b7f8d",
   "metadata": {},
   "outputs": [
    {
     "data": {
      "text/plain": [
       "0.06535833026355602"
      ]
     },
     "execution_count": 12,
     "metadata": {},
     "output_type": "execute_result"
    }
   ],
   "source": [
    "mean_squared_error(y_test, boosted_dfes.predict(X_test))"
   ]
  },
  {
   "cell_type": "code",
   "execution_count": 13,
   "id": "dc12965d",
   "metadata": {},
   "outputs": [
    {
     "data": {
      "text/plain": [
       "0.06046902436975202"
      ]
     },
     "execution_count": 13,
     "metadata": {},
     "output_type": "execute_result"
    }
   ],
   "source": [
    "boosted_dfes2 = GradientBoostingRegressor(n_estimators = 500, \n",
    "                                            learning_rate = 0.2, \n",
    "                                            max_depth = 4, \n",
    "                                            random_state = 1)\n",
    "boosted_dfes2.fit(X_train, y_train)\n",
    "\n",
    "mean_squared_error(y_test, boosted_dfes2.predict(X_test))"
   ]
  },
  {
   "cell_type": "code",
   "execution_count": null,
   "id": "da67c3de",
   "metadata": {},
   "outputs": [],
   "source": []
  },
  {
   "cell_type": "code",
   "execution_count": null,
   "id": "336c1c6f",
   "metadata": {},
   "outputs": [],
   "source": []
  }
 ],
 "metadata": {
  "kernelspec": {
   "display_name": "Python 3",
   "language": "python",
   "name": "python3"
  },
  "language_info": {
   "codemirror_mode": {
    "name": "ipython",
    "version": 3
   },
   "file_extension": ".py",
   "mimetype": "text/x-python",
   "name": "python",
   "nbconvert_exporter": "python",
   "pygments_lexer": "ipython3",
   "version": "3.8.8"
  }
 },
 "nbformat": 4,
 "nbformat_minor": 5
}
